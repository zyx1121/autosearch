{
 "cells": [
  {
   "cell_type": "code",
   "execution_count": null,
   "metadata": {},
   "outputs": [
    {
     "ename": "",
     "evalue": "",
     "output_type": "error",
     "traceback": [
      "\u001b[1;31mRunning cells with '.venv (Python 3.13.3)' requires the ipykernel package.\n",
      "\u001b[1;31mRun the following command to install 'ipykernel' into the Python environment. \n",
      "\u001b[1;31mCommand: '/Users/loki/Documents/Temp/autosearch/.venv/bin/python -m pip install ipykernel -U --force-reinstall'"
     ]
    }
   ],
   "source": [
    "KEYWORD = \"legal thc flower shipping\"\n",
    "BLACKLIST_FILE = \"black.txt\"\n",
    "SEARCH_NUM = 100\n",
    "\n",
    "import argparse\n",
    "import sys\n",
    "from urllib.parse import urlparse\n",
    "\n",
    "from googlesearch import search\n",
    "\n",
    "\n",
    "def extract_base_url(url):\n",
    "    \"\"\"Extract base URL from a full URL.\"\"\"\n",
    "    parsed = urlparse(url)\n",
    "    return parsed.netloc\n",
    "\n",
    "\n",
    "def load_blacklist(filepath):\n",
    "    \"\"\"Load blacklist base URLs from file.\"\"\"\n",
    "    blacklist = set()\n",
    "    try:\n",
    "        with open(filepath, \"r\") as f:\n",
    "            for line in f:\n",
    "                line = line.strip()\n",
    "                if line:\n",
    "                    blacklist.add(line)\n",
    "    except FileNotFoundError:\n",
    "        print(\n",
    "            f\"Warning: Blacklist file '{filepath}' not found. Continuing without blacklist.\"\n",
    "        )\n",
    "    except Exception as e:\n",
    "        print(f\"Failed to read blacklist file: {e}\")\n",
    "        sys.exit(1)\n",
    "    return blacklist\n",
    "\n",
    "\n",
    "def search_with_fallback(keyword, search_num):\n",
    "    \"\"\"Try different parameter names for googlesearch.search for compatibility.\"\"\"\n",
    "    try:\n",
    "        return search(keyword, num_results=search_num)\n",
    "    except TypeError:\n",
    "        try:\n",
    "            return search(keyword, num=search_num)\n",
    "        except TypeError:\n",
    "            return search(keyword, stop=search_num)\n",
    "        except Exception as e:\n",
    "            print(f\"Unknown error: {e}\")\n",
    "            raise\n",
    "    except Exception as e:\n",
    "        print(f\"Unknown error: {e}\")\n",
    "        raise\n",
    "\n",
    "\n",
    "blacklist = set()\n",
    "if BLACKLIST_FILE:\n",
    "    blacklist = load_blacklist(BLACKLIST_FILE)\n",
    "\n",
    "for result in search_with_fallback(KEYWORD, SEARCH_NUM):\n",
    "    base = extract_base_url(result)\n",
    "    if base in blacklist:\n",
    "        continue\n",
    "    print(result)\n"
   ]
  }
 ],
 "metadata": {
  "kernelspec": {
   "display_name": ".venv",
   "language": "python",
   "name": "python3"
  },
  "language_info": {
   "name": "python",
   "version": "3.13.3"
  }
 },
 "nbformat": 4,
 "nbformat_minor": 2
}
